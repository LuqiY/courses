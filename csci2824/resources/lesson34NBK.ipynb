{
 "cells": [
  {
   "cell_type": "markdown",
   "metadata": {},
   "source": [
    "# Lecture 34: Counting by Recurrence Relations and Dynamic Programming\n",
    "***"
   ]
  },
  {
   "cell_type": "code",
   "execution_count": 2,
   "metadata": {
    "collapsed": false
   },
   "outputs": [],
   "source": [
    "import time\n",
    "%load_ext Cython"
   ]
  },
  {
   "cell_type": "markdown",
   "metadata": {},
   "source": [
    "### Recursive Fibonacci \n",
    "***"
   ]
  },
  {
   "cell_type": "code",
   "execution_count": 3,
   "metadata": {
    "collapsed": false
   },
   "outputs": [],
   "source": [
    "%%cython \n",
    "\n",
    "def rfib(n):\n",
    "    \n",
    "    assert n >= 0 \n",
    "    \n",
    "    if n==0 or n==1:\n",
    "        return 1 \n",
    "    \n",
    "    return rfib(n-1) + rfib(n-2)"
   ]
  },
  {
   "cell_type": "code",
   "execution_count": 4,
   "metadata": {
    "collapsed": false
   },
   "outputs": [
    {
     "name": "stdout",
     "output_type": "stream",
     "text": [
      "rfib(35) = 14930352 / Took 1.757896 seconds\n"
     ]
    }
   ],
   "source": [
    "n = 35\n",
    "rstart = time.time(); r = rfib(n); rend = time.time() \n",
    "print \"rfib({:d}) = {:d} / Took {:f} seconds\".format(n, r, rend-rstart)"
   ]
  },
  {
   "cell_type": "markdown",
   "metadata": {},
   "source": [
    "### Dynamic Fibonacci\n",
    "***"
   ]
  },
  {
   "cell_type": "code",
   "execution_count": 5,
   "metadata": {
    "collapsed": false
   },
   "outputs": [],
   "source": [
    "%%cython \n",
    "\n",
    "def dfib(n):\n",
    "    \n",
    "    assert n >= 0 \n",
    "    \n",
    "    if n <= 1:\n",
    "        return 1 \n",
    "    \n",
    "    fib = [0]*(n+1)\n",
    "    fib[0] = fib[1] = 1\n",
    "    \n",
    "    for ii in range(2,n+1): \n",
    "        fib[ii] = fib[ii-1] + fib[ii-2]\n",
    "        \n",
    "    return fib[n]\n"
   ]
  },
  {
   "cell_type": "code",
   "execution_count": 6,
   "metadata": {
    "collapsed": false
   },
   "outputs": [
    {
     "name": "stdout",
     "output_type": "stream",
     "text": [
      "rfib(35) = 14930352 / Took 1.636613 seconds\n",
      "dfib(35) = 14930352 / Took 0.000099 seconds\n"
     ]
    }
   ],
   "source": [
    "n = 35\n",
    "\n",
    "rstart = time.time(); r = rfib(n); rend = time.time() \n",
    "print \"rfib({:d}) = {:d} / Took {:f} seconds\".format(n, r, rend-rstart)\n",
    "\n",
    "dstart = time.time(); d = dfib(n); dend = time.time() \n",
    "print \"dfib({:d}) = {:d} / Took {:f} seconds\".format(n, d, dend-dstart)"
   ]
  },
  {
   "cell_type": "markdown",
   "metadata": {},
   "source": [
    "### Recursive Change Counting\n",
    "***"
   ]
  },
  {
   "cell_type": "code",
   "execution_count": 7,
   "metadata": {
    "collapsed": true
   },
   "outputs": [],
   "source": [
    "%%cython \n",
    "\n",
    "def rChange(n, denoms=[1,2,5]):\n",
    "    \n",
    "    assert n >= 0\n",
    "    \n",
    "    if n==0 or n==1: return 1\n",
    "    if n==2: return 2\n",
    "    if n==3: return 3\n",
    "    if n==4: return 5\n",
    "    \n",
    "    sum = 0\n",
    "    for ii in range(len(denoms)):\n",
    "        sum += rChange(n-denoms[ii], denoms)\n",
    "    \n",
    "    return sum"
   ]
  },
  {
   "cell_type": "code",
   "execution_count": 8,
   "metadata": {
    "collapsed": false
   },
   "outputs": [
    {
     "name": "stdout",
     "output_type": "stream",
     "text": [
      "rChange(35) = 79343166 / Took 5.135449 seconds\n"
     ]
    }
   ],
   "source": [
    "n = 35\n",
    "denoms = [1,2,5]\n",
    "rstart = time.time(); c = rChange(n, denoms); rend = time.time() \n",
    "print \"rChange({:d}) = {:d} / Took {:f} seconds\".format(n, c, rend-rstart)"
   ]
  },
  {
   "cell_type": "markdown",
   "metadata": {},
   "source": [
    "### Dynamic Change Counting\n",
    "***"
   ]
  },
  {
   "cell_type": "code",
   "execution_count": 9,
   "metadata": {
    "collapsed": true
   },
   "outputs": [],
   "source": [
    "%%cython \n",
    "\n",
    "def dChange(n, denoms=[1,2,5]):\n",
    "    \n",
    "    assert n >= 0\n",
    "    \n",
    "    if n==0 or n==1: return 1\n",
    "    if n==2: return 2\n",
    "    if n==3: return 3\n",
    "    if n==4: return 5\n",
    "    \n",
    "    c = [0]*(n+1)\n",
    "    \n",
    "    c[0] = c[1] = 1 \n",
    "    c[2] = 2 \n",
    "    c[3] = 3 \n",
    "    c[4] = 5 \n",
    "    \n",
    "    if n <= 4: \n",
    "        return c[n]\n",
    "    \n",
    "    for k in range(5,n+1):\n",
    "        c[k] = c[k-1] + c[k-2] + c[k-5]\n",
    "    \n",
    "    return c[n]"
   ]
  },
  {
   "cell_type": "code",
   "execution_count": 10,
   "metadata": {
    "collapsed": false
   },
   "outputs": [
    {
     "name": "stdout",
     "output_type": "stream",
     "text": [
      "rChange(40) = 1142898376 / Took 71.998462 seconds\n",
      "dChange(40) = 1142898376 / Took 0.002272 seconds\n"
     ]
    }
   ],
   "source": [
    "n = 35\n",
    "denoms = [1,2,5]\n",
    "\n",
    "rstart = time.time(); r = rChange(n, denoms); rend = time.time() \n",
    "print \"rChange({:d}) = {:d} / Took {:f} seconds\".format(n, r, rend-rstart)\n",
    "\n",
    "rstart = time.time(); d = dChange(n, denoms); rend = time.time() \n",
    "print \"dChange({:d}) = {:d} / Took {:f} seconds\".format(n, d, rend-rstart)"
   ]
  },
  {
   "cell_type": "code",
   "execution_count": null,
   "metadata": {
    "collapsed": true
   },
   "outputs": [],
   "source": []
  }
 ],
 "metadata": {
  "kernelspec": {
   "display_name": "Python 2",
   "language": "python",
   "name": "python2"
  },
  "language_info": {
   "codemirror_mode": {
    "name": "ipython",
    "version": 2
   },
   "file_extension": ".py",
   "mimetype": "text/x-python",
   "name": "python",
   "nbconvert_exporter": "python",
   "pygments_lexer": "ipython2",
   "version": "2.7.12"
  }
 },
 "nbformat": 4,
 "nbformat_minor": 0
}
